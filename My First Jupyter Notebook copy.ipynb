{
    "cells": [
        {
            "cell_type": "markdown",
            "metadata": {},
            "source": "# My Jupyter Notebook on IBM Watson Studio"
        },
        {
            "cell_type": "markdown",
            "metadata": {},
            "source": "**Mikee Miguel** <br>\nData Scientist"
        },
        {
            "cell_type": "markdown",
            "metadata": {},
            "source": "*I am interested in data science because I love analyzing random data*"
        },
        {
            "cell_type": "markdown",
            "metadata": {},
            "source": "### Addition \n"
        },
        {
            "cell_type": "code",
            "execution_count": 6,
            "metadata": {
                "scrolled": true
            },
            "outputs": [
                {
                    "data": {
                        "text/plain": "27"
                    },
                    "execution_count": 6,
                    "metadata": {},
                    "output_type": "execute_result"
                }
            ],
            "source": "1+26"
        },
        {
            "cell_type": "markdown",
            "metadata": {},
            "source": "**1) Image** <br>\n<img src=\"https://www.kindpng.com/picc/m/627-6278481_transparent-rushing-clipart-woman-happy-vector-png-png.png\" alt=\"WomanImage\">\n**2) Bulleted List** <br>\nMy Current Jobs <br>\n- Model <br>\n- Brand Ambassador <br>\n- Event Host <br>\n<br>\n<br>\n\n**3) Numbered List** <br>\nTravel Bucket List <br>\n1. South Korea <br>\n2. Japan <br>\n3. Spain <br>\n4. England <br>\n5. Singapore <br>\n<br>\n<br>\n**4) Link** <br>\n<a href= \"https://www.youtube.com/watch?v=IaVaoja2Uk4c\"> What vaping does to your body </a>\n\n\n"
        }
    ],
    "metadata": {
        "kernelspec": {
            "display_name": "Python 3.9",
            "language": "python",
            "name": "python3"
        },
        "language_info": {
            "codemirror_mode": {
                "name": "ipython",
                "version": 3
            },
            "file_extension": ".py",
            "mimetype": "text/x-python",
            "name": "python",
            "nbconvert_exporter": "python",
            "pygments_lexer": "ipython3",
            "version": "3.9.13"
        }
    },
    "nbformat": 4,
    "nbformat_minor": 1
}